{
  "cells": [
    {
      "cell_type": "markdown",
      "metadata": {
        "id": "view-in-github",
        "colab_type": "text"
      },
      "source": [
        "<a href=\"https://colab.research.google.com/github/HJGuan/UZH_FDS/blob/main/Practical1.ipynb\" target=\"_parent\"><img src=\"https://colab.research.google.com/assets/colab-badge.svg\" alt=\"Open In Colab\"/></a>"
      ]
    },
    {
      "cell_type": "code",
      "execution_count": null,
      "metadata": {
        "id": "Wa5KbpoHtCnO"
      },
      "outputs": [],
      "source": [
        "import numpy as np \n",
        "import pandas as pd \n",
        "pd.options.display.max_columns = None\n",
        "import pickle as pkl\n",
        "import matplotlib.pyplot as plt\n",
        "import seaborn as sns\n",
        "from sklearn.model_selection import train_test_split\n",
        "import statsmodels.formula.api as sm\n",
        "import statsmodels\n",
        "from sklearn.linear_model import LinearRegression\n"
      ]
    },
    {
      "cell_type": "markdown",
      "metadata": {
        "id": "id1w7kwZVF3I"
      },
      "source": [
        "# Practical 1 : Implementation of Linear Regression (Ridge, Lasso)\n",
        "\n",
        "First part:\n",
        "- Implement linear regression model \n",
        "    - using least squares method\n",
        "    - implement directly using the NumPy package\n",
        "\n",
        "Second part:\n",
        "- regularization\n",
        "- polynomial basis expansion\n",
        "- cross validation\n",
        "- scikit-learn: https://scikit-learn.org/\n",
        "\n",
        "You will need to use the following:"
      ]
    },
    {
      "cell_type": "code",
      "execution_count": null,
      "metadata": {
        "id": "CTZv9o5i4gy3"
      },
      "outputs": [],
      "source": [
        "import numpy as np\n",
        "import matplotlib.pyplot as plt\n",
        "import _pickle as cp"
      ]
    },
    {
      "cell_type": "markdown",
      "metadata": {
        "id": "b1-ZQWqTVPno"
      },
      "source": [
        "For the purpose of testing, we’ll use the winequality dataset. The dataset is available here:\n",
        "https://archive.ics.uci.edu/ml/datasets/Wine+Quality In order to make it easier to import the dataset, we’ve converted the data to the numpy array format and shuffled it so that you can start the practical directly. The dataset is available on the course website. "
      ]
    },
    {
      "cell_type": "markdown",
      "metadata": {
        "id": "TzDL9RQiVaPY"
      },
      "source": [
        "The dataset has two files. We’ll focus on the white wine data, which is the larger dataset. You can load the data from the files as follows:"
      ]
    },
    {
      "cell_type": "code",
      "execution_count": null,
      "metadata": {
        "colab": {
          "base_uri": "https://localhost:8080/",
          "height": 51
        },
        "id": "NYkwbebUVO_i",
        "outputId": "80ed8916-85c3-4564-cda8-d8a8f36aaa1d"
      },
      "outputs": [
        {
          "name": "stdout",
          "output_type": "stream",
          "text": [
            "X is a matrix with shape (4898, 11), which has 4898 records and 11 attributes.\n",
            "y is a vector with 4898 values, which stores the corresponding labels of the data records in X\n"
          ]
        }
      ],
      "source": [
        "# load the dataset\n",
        "# X is a matrix such that each row stores a data record \n",
        "# y is a vector of the corresponding labels of the records\n",
        "X, y = cp.load(open('winequality-white.pickle', 'rb'))\n",
        "\n",
        "# check the size of the data\n",
        "print(\"X is a matrix with shape {}, which has {} records and {} attributes.\".format(X.shape, X.shape[0], X.shape[1]))\n",
        "print(\"y is a vector with {} values, which stores the corresponding labels of the data records in X\".format(y.shape[0]))\n"
      ]
    },
    {
      "cell_type": "markdown",
      "metadata": {
        "id": "CGuNg0KbWN0z"
      },
      "source": [
        "In order to get consistent results, all students should use the same 80% of the data as training\n",
        "data. We’ll use the remaining as test data. To achieve this split run the following:"
      ]
    },
    {
      "cell_type": "code",
      "execution_count": null,
      "metadata": {
        "colab": {
          "base_uri": "https://localhost:8080/",
          "height": 85
        },
        "id": "6ZqbBa8bWNYg",
        "outputId": "da274c4e-c3ed-4ac0-8442-27befcf26f4c"
      },
      "outputs": [
        {
          "name": "stdout",
          "output_type": "stream",
          "text": [
            "Shape of X_train: (3918, 11)\n",
            "Shape of y_train: (3918,)\n",
            "Shape of X_test: (980, 11)\n",
            "Shape of y_test: (980,)\n"
          ]
        }
      ],
      "source": [
        "# The function splits the dataset into the training dataset and the test dataset.\n",
        "# The parameter split_coeff is a percentage value such that\n",
        "# the first split_coeff of the dataset goes to the training dataset, \n",
        "# and the remaining data goes to the test dataset.\n",
        "\n",
        "\n",
        "def split_data(X, y, split_coeff):\n",
        "    N, _ = X.shape # get the number of records (rows)\n",
        "    train_size = int(split_coeff * N) # use the first split_coeff of the data as the training data\n",
        "    X_train = X[:train_size] # the first training_size records\n",
        "    y_train = y[:train_size]\n",
        "    X_test = X[train_size:] # the last test_size records\n",
        "    y_test = y[train_size:]\n",
        "    return X_train, y_train, X_test, y_test\n",
        "\n",
        "X_train, y_train, X_test, y_test = split_data(X, y, 0.8) # use 80% of the data as training data\n",
        "\n",
        "# check the size of the splitted dataset\n",
        "print(\"Shape of X_train:\", X_train.shape)\n",
        "print(\"Shape of y_train:\", y_train.shape)\n",
        "print(\"Shape of X_test:\", X_test.shape)\n",
        "print(\"Shape of y_test:\", y_test.shape)"
      ]
    },
    {
      "cell_type": "markdown",
      "metadata": {
        "id": "RL1N8mKUWYnx"
      },
      "source": [
        "We’ll not touch the test data except for reporting the errors of our learned models"
      ]
    },
    {
      "cell_type": "markdown",
      "metadata": {
        "id": "q2yKNR49Wkn8"
      },
      "source": [
        "## Understanding What We’re Predicting\n",
        "\n",
        "Before we get to training a linear model on the data and using it to make predictions, let’s look\n",
        "at the spread of y values on the training set. The values are integers between 3 and 9 indicating\n",
        "the quality of the wine.\n"
      ]
    },
    {
      "cell_type": "markdown",
      "metadata": {
        "id": "-PMpsZNSWthB"
      },
      "source": [
        "### **Task 1**\n",
        "Make a bar chart showing the distribution of y values appearing in the training data."
      ]
    },
    {
      "cell_type": "code",
      "execution_count": null,
      "metadata": {
        "colab": {
          "base_uri": "https://localhost:8080/",
          "height": 295
        },
        "id": "4L_JDK3dWrsR",
        "outputId": "71b22bf6-77ce-4bd6-d5b1-61f633923144"
      },
      "outputs": [
        {
          "data": {
            "image/png": "[encoded data removed]",
            "text/plain": [
              "<Figure size 432x288 with 1 Axes>"
            ]
          },
          "metadata": {
            "needs_background": "light"
          },
          "output_type": "display_data"
        }
      ],
      "source": [
        "#@title\n",
        "# Task 1: \n",
        "# the function takes the training dataset as the input, and make the bar chart\n",
        "def plot_bar_chart_score(X_train, y_train):\n",
        "    c=Counter(y_train)\n",
        "    plt.figure()\n",
        "    plt.bar(c.keys(),c.values())\n",
        "    plt.title(\"Distribution of scores of wines\")\n",
        "    plt.xlabel(\"Score\")\n",
        "    plt.ylabel(\"Number of wines\")\n",
        "    return plt.show()\n",
        "\n",
        "plot_bar_chart_score(X_train, y_train)"
      ]
    },
    {
      "cell_type": "markdown",
      "metadata": {
        "id": "GxjlElni2FcH"
      },
      "source": [
        "### **Task 2** \n",
        "Implement the trivial predictor, which uses the average value of y on the training set as the prediction for ever datapoint. "
      ]
    },
    {
      "cell_type": "code",
      "execution_count": null,
      "metadata": {
        "colab": {
          "base_uri": "https://localhost:8080/",
          "height": 34
        },
        "id": "-V3xFYexX1lt",
        "outputId": "5e57738e-87d5-408c-f1bf-9df66a175f35"
      },
      "outputs": [
        {
          "name": "stdout",
          "output_type": "stream",
          "text": [
            "Average of y on the training label values is 5.878764675855028\n"
          ]
        }
      ],
      "source": [
        "#@title\n",
        "# Task 2: implement the simplest predictor\n",
        "# The function computes the average value of y on the training label values\n",
        "def compute_average(y_train):\n",
        "    avg=np.mean(y_train)\n",
        "    return avg\n",
        "\n",
        "y_train_avg = compute_average(y_train)\n",
        "print(\"Average of y on the training label values is {}\".format(y_train_avg))\n",
        "\n",
        "# The simplest predictor returns the average value.\n",
        "def simplest_predictor(X_test, y_train_avg):\n",
        "    return y_train_avg"
      ]
    },
    {
      "cell_type": "markdown",
      "metadata": {
        "id": "x531Q_SxXV14"
      },
      "source": [
        "### **Task 3**\n",
        "Report the mean squared error, i.e., the average of the squared residuals, using this simplest of predictors on the training and test data. We should hope that our models beat at lease this baseline. "
      ]
    },
    {
      "cell_type": "code",
      "execution_count": null,
      "metadata": {
        "id": "k712ORa6tCnb"
      },
      "outputs": [],
      "source": [
        "def simplest_predictor(X_test, y_train_avg):\n",
        "    return y_train_avg"
      ]
    },
    {
      "cell_type": "code",
      "execution_count": null,
      "metadata": {
        "colab": {
          "base_uri": "https://localhost:8080/",
          "height": 102
        },
        "id": "mV8l6Ci9YlgL",
        "outputId": "f57858dc-d0fc-40fe-dbf7-c652d2f8fddb"
      },
      "outputs": [
        {
          "name": "stdout",
          "output_type": "stream",
          "text": [
            "Simplest Predictor\n",
            "--------------------------------------------------------------------------------\n",
            "\n",
            "MSE (Training) = 0.7768\n",
            "MSE (Testing)  = 0.8139\n"
          ]
        }
      ],
      "source": [
        "# We will evaluate our simplest predictor here. \n",
        "# Implement a function that can report the mean squared error \n",
        "# of a predictor on the given test data\n",
        "# Input: test dataset and predictor\n",
        "# Output: mean squared error of the predictor on the given test data\n",
        "def test_data(X_test, y_test, predictor: callable=None):\n",
        "    # Applies the predictor to each row to compute the predicted values\n",
        "    y_predicted = np.apply_along_axis(predictor, 1, X_test)\n",
        "    mse=np.mean((y_test-y_predicted)**2)\n",
        "    return mse\n",
        "\n",
        "# use the above function test_data to evaluate the simplest predictor\n",
        "# we use the lambda function here to pass the function simplest_predictor to the evaluator.\n",
        "mse_simplest_predictor_train = test_data(X_train, y_train, lambda x: simplest_predictor(x, y_train_avg))\n",
        "mse_simplest_predictor_test = test_data(X_test, y_test, lambda x: simplest_predictor(x, y_train_avg))\n",
        "\n",
        "# Report the result\n",
        "print('Simplest Predictor')\n",
        "print('--------------------------------------------------------------------------------\\n')\n",
        "print('MSE (Training) = %.4f' % mse_simplest_predictor_train)\n",
        "print('MSE (Testing)  = %.4f' % mse_simplest_predictor_test)"
      ]
    },
    {
      "cell_type": "markdown",
      "metadata": {
        "id": "geiyM1Nea0az"
      },
      "source": [
        "## Linear Model Using Least Squares\n",
        "\n",
        "Let us first fit a linear regression model and then calculate the training and test error. We’ll\n",
        "actually use the closed form solution of the least squares estimate for the linear model. \n"
      ]
    },
    {
      "cell_type": "markdown",
      "metadata": {
        "id": "cRPPA6HMbNOr"
      },
      "source": [
        "### **Task 4**\n",
        "Is it strictly necessary to standardize the data for the linear model using the least squares method? Why?"
      ]
    },
    {
      "cell_type": "markdown",
      "metadata": {
        "id": "9he5QMmfqL3_"
      },
      "source": [
        "No, it is not strictly nescessary. It depends on whether, after regression, we want to conduct other analysis that strictly requires the features to be fit to normal distribution or in which cases different scales of features will mislead us, such as PCA(Principle Component Analysis). Otherwise, sololy Linear regression using least squares method does not require standardization.\n",
        "\n",
        "We consider the model as $$y=\\beta_0+\\beta_1x1+\\beta_2x2+\\beta_3x3+...+\\epsilon\\tag{1}$$\n",
        "and according to the least squares method, the slope coefficients are: (using $\\beta_1$ as exemple)  $$\\hat{\\beta}_1(x_1)=\\frac{\\sum^n_{i=1}(x_{1,i}-\\bar{x}_1)(y_i-\\bar{y})}{\\sum^n_{i=1}(x_{1,i}-\\bar{x}_1)^2}\\tag{2}$$\n",
        "\n",
        "Standardization stands for: $$x\\prime=\\frac{x-\\mu}{\\sigma}$$ which we can see as seperately **Centering** and **Scaling**. **Centering** will not influence the slopes:\n",
        "\n",
        "$$\\hat{\\beta}'_1(x_1)=\\frac{\\sum^n_{i=1}((x'_{1,i}-\\mu)-0)(y_i-\\bar{y})}{\\sum^n_{i=1}((x'_{1,i}-\\mu)-0)^2}=\\frac{\\sum^n_{i=1}(x_{1,i}-\\bar{x}_1)(y_i-\\bar{y})}{\\sum^n_{i=1}(x_{1,i}-\\bar{x}_1)^2}=\\hat{\\beta}_1(x_1)\\tag{3}$$\n",
        "\n",
        "We can find that **Centering** do not influence the sums of residuals, hence neither the slope coefficients. The only variable being influenced in fomula (1) is $\\beta_0$, which is the intersect, because **Centering** moves the data horizonaly.\n",
        "\n",
        "The effect on regression given by **Scaling** is that the slopes will change propotionaly (If we multiply $x_n$ a facter $\\frac{1}{\\sigma}$ for exemple, we will simply change the $\\hat\\beta_1$ into $\\frac{\\hat\\beta_1}{\\sigma}$).\n",
        "\n",
        "$$\\hat{\\beta}_1(\\frac{x_1}{\\sigma})=\\frac{\\sum^n_{i=1}(\\frac{1}{\\sigma}x_{1,i}-\\frac{1}{\\sigma}\\bar{x}_1)(y_i-\\bar{y})}{\\sum^n_{i=1}(\\frac{1}{\\sigma}x_{1,i}-\\frac{1}{\\sigma}\\bar{x}_1)^2}=\\frac{\\frac{1}{\\sigma}\\sum^n_{i=1}(x_{1,i}-\\bar{x}_1)(y_i-\\bar{y})}{(\\frac{1}{\\sigma})^2\\sum^n_{i=1}(x_{1,i}-\\bar{x}_1)^2}=\\frac{\\hat{\\beta}_1(x_1)}{\\sigma}$$\n",
        "\n",
        "The validity of the regression model is not influenced by whether we conduct standardization or not. However, the slope coeffients $\\beta_n, (n\\geqslant1)$ are used to represent the marginal effects on $y_n$ given by one additional unit of $x_n$. Standardization will make it hard for user to identify these marginal effects."
      ]
    },
    {
      "cell_type": "markdown",
      "metadata": {
        "id": "WSEwFGp_bqAI"
      },
      "source": [
        "### **Task 5**\n",
        "Standardize the data, i.e., make the data for every feature have mean 0 and variance 1. \n",
        "\n",
        "We do the standardization using the training data, and we need to remember the means and\n",
        "the standard deviations so that they can be applied to the test data as well. Apply the\n",
        "standardization so that every feature in the training data has mean 0 and variance 1. Apply\n",
        "the same transformation to the test data. "
      ]
    },
    {
      "cell_type": "code",
      "execution_count": null,
      "metadata": {
        "colab": {
          "base_uri": "https://localhost:8080/",
          "height": 68
        },
        "id": "trjwkcgybhDH",
        "outputId": "d87a4635-354f-47e2-947a-e843f027e4cb"
      },
      "outputs": [
        {
          "name": "stdout",
          "output_type": "stream",
          "text": [
            "The shape of X_train_std: (3918, 11)\n",
            "Mean: [6.85427514e+00 2.78390761e-01 3.34892802e-01 6.42623788e+00\n",
            " 4.58213374e-02 3.53263144e+01 1.38513272e+02 9.94040729e-01\n",
            " 3.18647524e+00 4.89055641e-01 1.05115799e+01]\n",
            "Standard deviation: [8.39100902e-01 9.95630176e-02 1.24249975e-01 5.06377532e+00\n",
            " 2.16660282e-02 1.71004677e+01 4.23956179e+01 2.97972269e-03\n",
            " 1.49949475e-01 1.12992053e-01 1.22536544e+00]\n"
          ]
        }
      ],
      "source": [
        "# Input: training data\n",
        "# Output: standardize training data, standard deviations and means\n",
        "def standardize_data(X):\n",
        "    mean = np.mean(X, axis=0)\n",
        "    std = np.std(X, axis=0)\n",
        "    X_std = (X-mean)/std\n",
        "    return X_std, mean, std\n",
        "\n",
        "X_train_std, X_train_mean, X_train_std_div = standardize_data(X_train)\n",
        "\n",
        "print(\"The shape of X_train_std:\", X_train_std.shape)\n",
        "print(\"Mean:\", X_train_mean)\n",
        "print(\"Standard deviation:\", X_train_std_div)"
      ]
    },
    {
      "cell_type": "code",
      "execution_count": null,
      "metadata": {
        "colab": {
          "base_uri": "https://localhost:8080/",
          "height": 102
        },
        "id": "RjzbA5JpM759",
        "outputId": "ff594788-2fdd-419c-98fa-beac6a53cfc9"
      },
      "outputs": [
        {
          "name": "stdout",
          "output_type": "stream",
          "text": [
            "The shape of X_test_std: (980, 11)\n",
            "Mean: [6.85683673e+00 2.77642857e-01 3.31387755e-01 6.25219388e+00\n",
            " 4.55765306e-02 3.52352041e+01 1.37750510e+02 9.93973995e-01\n",
            " 3.19542857e+00 4.93010204e-01 1.05250102e+01]\n",
            "Standard deviation: [8.62240315e-01 1.05523501e-01 1.07021420e-01 5.10008981e+00\n",
            " 2.25488418e-02 1.66196968e+01 4.28782894e+01 3.03311801e-03\n",
            " 1.54849894e-01 1.18441495e-01 1.25073461e+00]\n"
          ]
        }
      ],
      "source": [
        "# TODO: Standardize the test data using the mean and standrad deviation you computed for the training data\n",
        "\n",
        "X_test_std, X_test_mean, X_test_std_div = standardize_data(X_test)\n",
        "\n",
        "print(\"The shape of X_test_std:\", X_test_std.shape)\n",
        "print(\"Mean:\", X_test_mean)\n",
        "print(\"Standard deviation:\", X_test_std_div)"
      ]
    },
    {
      "cell_type": "markdown",
      "metadata": {
        "id": "vT4_Sl42bxmD"
      },
      "source": [
        "### **Task 6**\n",
        "Implement the linear model predictor, and report the mean squared error using the linear model on the training and test data.\n",
        "\n",
        "We will do this in several steps. We need to implement the function for computing the parameters based on the training dataset. Note we need to add the bias column to the dataset. "
      ]
    },
    {
      "cell_type": "code",
      "execution_count": null,
      "metadata": {
        "colab": {
          "base_uri": "https://localhost:8080/",
          "height": 34
        },
        "id": "A4JtLr6pdJV7",
        "outputId": "dfd57312-284f-4ce9-820b-4fdbdfbec8c4"
      },
      "outputs": [
        {
          "name": "stdout",
          "output_type": "stream",
          "text": [
            "[ 5.87876468e+00  5.70365710e-02 -1.83384219e-01 -4.04067444e-03\n",
            "  4.09097280e-01 -8.17517111e-03  5.92929519e-02 -3.56633675e-03\n",
            " -4.36936781e-01  9.87381161e-02  6.53325059e-02  2.42495455e-01]\n",
            "<class 'numpy.ndarray'>\n",
            "w: (12,)\n"
          ]
        }
      ],
      "source": [
        "# the function adds a column of ones to the front of the input matrix\n",
        "def expand_with_ones(X):\n",
        "    add = np.ones(X.shape[0])\n",
        "    X_out = np.insert(X,0,values=add,axis=1)\n",
        "    return X_out\n",
        "\n",
        "\n",
        "# The function computes the parameters\n",
        "def least_squares_compute_parameters(X_input, y):\n",
        "    model=LinearRegression()\n",
        "    #X_input=expand_with_ones(X_input)\n",
        "    lr=model.fit(X_input,y)\n",
        "    T = np.insert(lr.coef_,0,values=lr.intercept_,axis=0)\n",
        "    return T\n",
        "\n",
        "\n",
        "# train the linear model parameters\n",
        "w = least_squares_compute_parameters(X_train_std, y_train) \n",
        "print(w)\n",
        "print(type(w))\n",
        "print(\"w:\", w.shape)"
      ]
    },
    {
      "cell_type": "markdown",
      "metadata": {
        "id": "lasj_1PpeZib"
      },
      "source": [
        "We then implement the linear model predictor given the dataset and the parameters. "
      ]
    },
    {
      "cell_type": "code",
      "execution_count": null,
      "metadata": {
        "id": "Lb-hNagxc3Wj"
      },
      "outputs": [],
      "source": [
        "# Implement the linear model predictor\n",
        "# Input: test data and parameters\n",
        "# Output: predicted values\n",
        "def linear_model_predictor(X, w):\n",
        "    # TODO: compute the predicted values based on the test dataset and the parameters\n",
        "    # The code below is just for compilation. \n",
        "    # You need to replace it by your own code.\n",
        "    Y=X.dot(w)\n",
        "    return Y"
      ]
    },
    {
      "cell_type": "code",
      "execution_count": null,
      "metadata": {
        "id": "vvFglziAtCne"
      },
      "outputs": [],
      "source": [
        "y_predicted=linear_model_predictor(expand_with_ones(X_test_std),w)"
      ]
    },
    {
      "cell_type": "markdown",
      "metadata": {
        "id": "cFOYpwbufz7J"
      },
      "source": [
        "We can now evaluate our linear model predictor on the test dataset. "
      ]
    },
    {
      "cell_type": "code",
      "execution_count": null,
      "metadata": {
        "id": "obD2GSidtCnf"
      },
      "outputs": [],
      "source": [
        "def test_data(X_test, y_test, predictor: callable=None):\n",
        "    # Applies the predictor to each row to compute the predicted values\n",
        "    y_predicted = np.apply_along_axis(predictor, 1, X_test)\n",
        "    mse=np.mean((y_test-y_predicted)**2)\n",
        "    return mse"
      ]
    },
    {
      "cell_type": "code",
      "execution_count": null,
      "metadata": {
        "colab": {
          "base_uri": "https://localhost:8080/",
          "height": 34
        },
        "id": "LuHHmn2RB55j",
        "outputId": "b6cb4556-2618-419a-a082-214f2e6ecb5e"
      },
      "outputs": [
        {
          "name": "stdout",
          "output_type": "stream",
          "text": [
            "Mean squared error is 0.562066730662596\n"
          ]
        }
      ],
      "source": [
        "# use the function test_data to evaluate the linear model predictor\n",
        "mse_linear_model_predictor = test_data(expand_with_ones(X_test_std), y_test, lambda x: linear_model_predictor(x, w))\n",
        "print(\"Mean squared error is {}\".format(mse_linear_model_predictor))"
      ]
    },
    {
      "cell_type": "markdown",
      "metadata": {
        "id": "zqj4HKAihF7Q"
      },
      "source": [
        "## Learning Curves\n",
        "\n",
        "Let us see if the linear model is overfitting or underfitting. Since the dataset is somewhat large and there are only 11 features, our guess should be that it may either be underfitting or be about right."
      ]
    },
    {
      "cell_type": "markdown",
      "metadata": {
        "id": "XDLCsjzWhMCp"
      },
      "source": [
        "Starting with 20 datapoints, we’ll use training datasets of increasing size, in increments of 20 up to about 600 datapoints. For each case train the linear model only using the first n elements of\n",
        "the training data. Calculate the training error (on the data used) and the test error (on the full test set). Plot the training error and test error as a function of the size of the dataset used for\n",
        "training."
      ]
    },
    {
      "cell_type": "markdown",
      "metadata": {
        "id": "MNf11kurCgKF"
      },
      "source": [
        "### **Task 7** \n",
        "Implement a function that evaluates the linear model over the training dataset with the input size.\n",
        "The function takes a dataset and the split coefficient as inputs, and\n",
        "1. splits the data to training and test datasets,\n",
        "2. standardizes the data,\n",
        "3. trains the linear model, and\n",
        "4. reports the mse of the linear model predictor on both training and test datasets. "
      ]
    },
    {
      "cell_type": "code",
      "execution_count": null,
      "metadata": {
        "colab": {
          "base_uri": "https://localhost:8080/",
          "height": 102
        },
        "id": "UcGRQBrEb106",
        "outputId": "179c5ec0-ee87-4c4b-a02b-d97d55862e1f"
      },
      "outputs": [
        {
          "name": "stdout",
          "output_type": "stream",
          "text": [
            "MSE using Linear Models\n",
            "-----------------------\n",
            "\n",
            "MSE (Training) = 0.5640\n",
            "MSE (Testing)  = 0.5621\n"
          ]
        }
      ],
      "source": [
        "# Input: dataset and split coefficient\n",
        "# Output: mse of the linear model predictor on both the training and test datasets\n",
        "def train_and_test(X, y, split_coeff):\n",
        "    X_train, y_train, X_test, y_test = split_data(X, y, split_coeff)#splits the data to training and test datasets\n",
        "    X_train_std, X_train_mean, X_train_std_div = standardize_data(X_train)#standardizes the data\n",
        "    X_test_std, X_train_mean, X_train_std_div = standardize_data(X_test)#The test data must be standardized using the means and standard deviations of the training data.\n",
        "    w=least_squares_compute_parameters(X_train_std, y_train)#trains the linear model\n",
        "    mse_train=test_data(expand_with_ones(X_train_std), y_train, lambda x: linear_model_predictor(x, w))#reports the mse\n",
        "    mse_test=test_data(expand_with_ones(X_test_std), y_test, lambda x: linear_model_predictor(x, w))\n",
        "    return mse_train, mse_test\n",
        " \n",
        "\n",
        "mse_train, mse_test = train_and_test(X, y, 0.8)\n",
        "print('MSE using Linear Models')\n",
        "print('-----------------------\\n')\n",
        "print('MSE (Training) = %.4f' % mse_train)\n",
        "print('MSE (Testing)  = %.4f' % mse_test)\n"
      ]
    },
    {
      "cell_type": "markdown",
      "metadata": {
        "id": "NTJw_BrzhRwi"
      },
      "source": [
        "### **Task 8**\n",
        "Report the learning curves plot. Also, explain whether you think the model is underfitting or not and how much data you need before getting the optimal test error."
      ]
    },
    {
      "cell_type": "code",
      "execution_count": null,
      "metadata": {
        "id": "fP-eiysWtCnh",
        "outputId": "7e29073b-4ea1-4012-d1ef-2550d1319cc5"
      },
      "outputs": [
        {
          "name": "stdout",
          "output_type": "stream",
          "text": [
            "[2.591451963821953, 1.0586081059986376, 0.7404532782723247, 0.6483983901495343, 0.6346141759675119, 0.6252353903942954, 0.6128068429123744, 0.603780361724681, 0.6012739864472627, 0.5905716023431327, 0.5813254164395628, 0.5886948363832406, 0.5819047521356662, 0.5758064837753777, 0.5744882467864655, 0.575108349378868, 0.575850843805667, 0.5736755576612952, 0.5722746936820732, 0.5727046843235217, 0.5747051861531355, 0.5732305028980075, 0.5711274388114163, 0.5681750565984991, 0.5676869837018916, 0.5677489612704077, 0.5674672143839286, 0.5681975753232306, 0.5684629257082594, 0.5695824711481706]\n",
            "[2.5612228528060452, 1.0823927360354921, 0.7578268033236155, 0.6521303333348949, 0.622750241220382, 0.6221086637802614, 0.6061816109800403, 0.5958588977063082, 0.5889026721782317, 0.5808931830613379, 0.5773928145485333, 0.5835939586159932, 0.577662080760088, 0.5695707089967706, 0.5685228779959929, 0.5715142773395018, 0.5707238469882586, 0.5682709202736604, 0.5674115464684686, 0.5673828284666277, 0.5676155802078001, 0.5653907704473203, 0.565958294209969, 0.5620501754864541, 0.5621269143928882, 0.5627998709647635, 0.563855937902978, 0.5632588995184622, 0.5641948223227612, 0.5661768579164224]\n"
          ]
        }
      ],
      "source": [
        "mse_train_v = []\n",
        "mse_test_v = []\n",
        "\n",
        "TRAINING_SIZE_MAX = 601\n",
        "TRAINING_SIZE_MIN = 20\n",
        "\n",
        "for train_size in range(TRAINING_SIZE_MIN, TRAINING_SIZE_MAX, 20):\n",
        "    X_train_std_seg=X_train_std[0:train_size,:]\n",
        "    y_train_seg=y_train[0:train_size]\n",
        "    w=least_squares_compute_parameters(X_train_std_seg, y_train_seg)#trains the linear model\n",
        "    mse_train=test_data(expand_with_ones(X_train_std), y_train, lambda x: linear_model_predictor(x, w))#reports the mse\n",
        "    mse_test=test_data(expand_with_ones(X_test_std), y_test, lambda x: linear_model_predictor(x, w))\n",
        "    mse_train_v.append(mse_train)\n",
        "    mse_test_v.append(mse_test)\n",
        "    \n",
        "print(mse_train_v)\n",
        "print(mse_test_v)"
      ]
    },
    {
      "cell_type": "code",
      "execution_count": null,
      "metadata": {
        "scrolled": true,
        "id": "30KzGiAwtCnh",
        "outputId": "1dc2ae9d-88ea-4e8f-bc26-3024a21e9145"
      },
      "outputs": [
        {
          "data": {
            "image/png": "[encoded data removed]",
            "text/plain": [
              "<Figure size 432x288 with 1 Axes>"
            ]
          },
          "metadata": {
            "needs_background": "light"
          },
          "output_type": "display_data"
        }
      ],
      "source": [
        "# The below code outputs the plot of mse from different training sizes\n",
        "plt.figure(2)\n",
        "plt.plot(np.arange(TRAINING_SIZE_MIN, TRAINING_SIZE_MAX, 20), mse_train_v, 'r--', label=\"Training Error\")\n",
        "plt.plot(np.arange(TRAINING_SIZE_MIN, TRAINING_SIZE_MAX, 20), mse_test_v, 'b-', label=\"Test Error\")\n",
        "plt.legend(loc='upper right', fontsize=9)\n",
        "plt.xlim(20,100)\n",
        "plt.xlabel('Dataset Size')\n",
        "plt.ylabel('Mean Squared Error')\n",
        "plt.show()"
      ]
    },
    {
      "cell_type": "markdown",
      "metadata": {
        "id": "9A9VqDTzOdfd"
      },
      "source": [
        "(Add the answer to Task 8 here in text)\n",
        "\n",
        "\n",
        "\n",
        "\n",
        "just about right"
      ]
    },
    {
      "cell_type": "markdown",
      "metadata": {
        "id": "djpsaTu_kK3T"
      },
      "source": [
        "## Polynomial Basis Expansion with Ridge and Lasso\n",
        "\n",
        "For this part use the following from the scikit-learn package. Read the documentation available here: http://scikit-learn.org/stable/modules/classes.html\n",
        "\n"
      ]
    },
    {
      "cell_type": "markdown",
      "metadata": {
        "id": "pnw2FEvqkdV_"
      },
      "source": [
        "You will need the use the following:"
      ]
    },
    {
      "cell_type": "code",
      "execution_count": null,
      "metadata": {
        "id": "9TM0nkNbkhfM"
      },
      "outputs": [],
      "source": [
        "# You will need the following libs. \n",
        "# feel free to import other libs. \n",
        "\n",
        "# import the preprocessing libs for standarization and basis expansion\n",
        "from sklearn.preprocessing import StandardScaler, PolynomialFeatures \n",
        "\n",
        "# Ridge and Lasso linear model\n",
        "from sklearn.linear_model import Ridge, Lasso \n",
        "from sklearn.metrics import mean_squared_error"
      ]
    },
    {
      "cell_type": "markdown",
      "metadata": {
        "id": "9fAfOfXCksT9"
      },
      "source": [
        "Try 5 powers of 10 for lambda from 10^-2 to 10^2 and use degree 2 basis expansion. Fit ridge and lasso using degree 2 polynomial expansion with these values of lambda. You should pick the optimal values for lambda using a validation set. Set the last 20% of the training set for the purpose of validation."
      ]
    },
    {
      "cell_type": "markdown",
      "metadata": {
        "id": "pCwBPuOXlRF7"
      },
      "source": [
        "### **Task 9**\n",
        "Let's implement the function for expanding the basis of the dataset. \n",
        "\n",
        "Hints: use `PolynomialFeatures`"
      ]
    },
    {
      "cell_type": "code",
      "execution_count": null,
      "metadata": {
        "id": "50azFolql1qA"
      },
      "outputs": [],
      "source": [
        "def expand_basis(X, degree):\n",
        "    poly = PolynomialFeatures(degree)\n",
        "    X_expanded = poly.fit_transform(X)\n",
        "    return X_expanded\n"
      ]
    },
    {
      "cell_type": "code",
      "execution_count": null,
      "metadata": {
        "id": "2btcq94ntCni"
      },
      "outputs": [],
      "source": [
        "X_expanded=expand_basis(X, 2)"
      ]
    },
    {
      "cell_type": "markdown",
      "metadata": {
        "id": "6jwkPevimQri"
      },
      "source": [
        "### **Task 10**\n",
        "Prepare the training, test and validation data using the expanded dataset. Expand and standardize the the data. \n",
        "\n",
        "Hints: you can use `StandardScaler` and `std_scaler` to standardize the data"
      ]
    },
    {
      "cell_type": "code",
      "execution_count": null,
      "metadata": {
        "scrolled": true,
        "id": "QNNUAgGitCni"
      },
      "outputs": [],
      "source": [
        "def standardize(X):\n",
        "    scaler=StandardScaler()\n",
        "    scaler.fit(X)\n",
        "    X_scale=scaler.transform(X,copy=None)\n",
        "    return X_scale"
      ]
    },
    {
      "cell_type": "code",
      "execution_count": null,
      "metadata": {
        "id": "Da1S9LwKtCnj",
        "outputId": "ef9da6bf-6d53-4669-c8fa-ff6cf76b435c"
      },
      "outputs": [
        {
          "name": "stdout",
          "output_type": "stream",
          "text": [
            "3134\n"
          ]
        }
      ],
      "source": [
        "N, _ = X.shape\n",
        "print(int(N*0.8*0.8))"
      ]
    },
    {
      "cell_type": "code",
      "execution_count": null,
      "metadata": {
        "id": "dQCq4G9YmW7w"
      },
      "outputs": [],
      "source": [
        "# TODO: the training, test and validation data using the expanded dataset.\n",
        "def prepare_data(X, y, degree):\n",
        "    # Hints: follow the steps    \n",
        "    # You need to parpare four datasets:\n",
        "    # 1. training data -- X_train, y_train\n",
        "    # 2. test data -- X_test, y_test\n",
        "    # 3. validation data -- X_train_v, y_train_v\n",
        "    # 4. training data (cross validation) -- X_train_n, y_train_n\n",
        "    X_exp=expand_basis(X, degree)\n",
        "    X_exp_std=standardize(X_exp)\n",
        "    # training data\n",
        "    N, _ = X.shape # get the number of records (rows)\n",
        "    train_size = int(0.8 * N) # use the first split_coeff of the data as the training data\n",
        "    X_train = X_exp_std[:train_size] \n",
        "    y_train = y[:train_size]\n",
        "    # test data\n",
        "    X_test = X_exp_std[train_size:]\n",
        "    y_test = y[train_size:]\n",
        "\n",
        "    # further split the training data to training and validation data\n",
        "    # training data\n",
        "    n, _ = X_train.shape # get the number of records (rows)\n",
        "    train_n_size = int(0.8 * n)\n",
        "    X_train_n = X_train[:train_n_size] \n",
        "    y_train_n = y_train[:train_n_size] \n",
        "\n",
        "    # validation data\n",
        "    X_train_v = X_train[train_n_size:] \n",
        "    y_train_v = y_train[train_n_size:]\n",
        "\n",
        "    return X_train, y_train, X_train_n, y_train_n, X_train_v, y_train_v, X_test, y_test\n",
        "\n",
        "\n",
        "X_train, y_train, X_train_n, y_train_n, X_train_v, y_train_v, X_test, y_test = prepare_data(X, y, 2) # here we expand the dataset with degree 2"
      ]
    },
    {
      "cell_type": "markdown",
      "metadata": {
        "id": "i3BxxtM3nghU"
      },
      "source": [
        "### **Task 11**\n",
        "We have prepared the training data and the validation data. We can now choose the hyper parameter lambda for Ridge and Lasso using the validation data. \n"
      ]
    },
    {
      "cell_type": "code",
      "execution_count": null,
      "metadata": {
        "id": "DiYlOLTZtCnj",
        "outputId": "0dc9ef96-4c4f-4c95-da72-5269057c4d62"
      },
      "outputs": [
        {
          "name": "stdout",
          "output_type": "stream",
          "text": [
            "Ridge lambda: 0.01\n",
            "Lasso lambda: 0.01\n"
          ]
        },
        {
          "data": {
            "image/png": "[encoded data removed]",
            "text/plain": [
              "<Figure size 432x288 with 1 Axes>"
            ]
          },
          "metadata": {
            "needs_background": "light"
          },
          "output_type": "display_data"
        },
        {
          "data": {
            "image/png": "[encoded data removed]",
            "text/plain": [
              "<Figure size 432x288 with 1 Axes>"
            ]
          },
          "metadata": {
            "needs_background": "light"
          },
          "output_type": "display_data"
        }
      ],
      "source": [
        "# The function takes the training and validation data as inputs, and \n",
        "# returns the lambda value that has the minimal mse\n",
        "# We use is_ridge to indicate the model we consider. \n",
        "# is_ridge = True indicates Ridge while is_ridge = False indicates Lasso\n",
        "def choose_hyper_param(X_train_n, y_train_n, X_train_v, y_train_v, is_ridge: bool,lam_begin,lam_end):\n",
        "    mse_arr_n = []\n",
        "    mse_arr_v = []\n",
        "    lam_arr = []\n",
        "    # Try lambda values from 10^-2 to 10^2. \n",
        "    # Record the mse and the lambda values in mse_arr and lam_arr\n",
        "    for pow_lam in range(lam_begin, lam_end+1):\n",
        "        lam = 10 ** pow_lam\n",
        "        if is_ridge==True:\n",
        "            reg = Ridge(alpha=lam)\n",
        "            reg.fit(X_train_n,y_train_n) \n",
        "        else:\n",
        "            reg = Lasso(alpha=lam)\n",
        "            reg.fit(X_train_n,y_train_n) \n",
        "        mse_n=np.sqrt(mean_squared_error(y_train_n,reg.predict(X_train_n)))\n",
        "        mse_v=np.sqrt(mean_squared_error(y_train_v,reg.predict(X_train_v)))\n",
        "        mse_arr_n.append(mse_n) # add the mse when using the hyperparameter lam\n",
        "        mse_arr_v.append(mse_v)\n",
        "        lam_arr.append(lam)\n",
        "    # get the index of the lambda value that has the minimal use\n",
        "    lambda_idx_min = np.argmin(np.array(mse_arr_v))\n",
        "    # print(lam_arr[lambda_idx_min])\n",
        "\n",
        "    # plot of the lambda values and their mse\n",
        "    plt.figure()\n",
        "    plt.semilogx(lam_arr, mse_arr_n,'b-', label=\"training error\")\n",
        "    plt.semilogx(lam_arr, mse_arr_v,'r-', label=\"Validation Error\")\n",
        "    plt.legend(loc='lower right', fontsize=9)\n",
        "\n",
        "\n",
        "    # return the best lambda value\n",
        "    return lam_arr[lambda_idx_min]\n",
        "\n",
        "# call the function to choose the lambda for Ridge and Lasso\n",
        "lam_ridge = choose_hyper_param(X_train_n, y_train_n, X_train_v, y_train_v, True,-2,2)\n",
        "lam_lasso = choose_hyper_param(X_train_n, y_train_n, X_train_v, y_train_v, False,-2,2)\n",
        "\n",
        "print(\"Ridge lambda:\", lam_ridge)\n",
        "print(\"Lasso lambda:\", lam_lasso)"
      ]
    },
    {
      "cell_type": "markdown",
      "metadata": {
        "id": "FAuX0uU5k9qD"
      },
      "source": [
        "### **Task 12**:\n",
        "Once you’ve obtained the optimal values for lambda for Ridge and Lasso, train these models using these hyperparameters on the full training data. Then report\n",
        "the training and test error."
      ]
    },
    {
      "cell_type": "code",
      "execution_count": null,
      "metadata": {
        "colab": {
          "base_uri": "https://localhost:8080/",
          "height": 221
        },
        "id": "VmwHESkg77zK",
        "outputId": "9bb9c1cf-1649-40e6-9162-2244525d9446"
      },
      "outputs": [
        {
          "name": "stdout",
          "output_type": "stream",
          "text": [
            "For Ridge Regression with using degree 0 polynomial expansion and lambda = 0.0100\n",
            "--------------------------------------------------------------------------------\n",
            "\n",
            "MSE (Training) = 0.7081\n",
            "MSE (Testing)  = 0.6752\n",
            "\n",
            "\n",
            "For Lasso with using degree 0 polynomial expansion and lambda = 0.0100\n",
            "---------------------------------------------------------------------\n",
            "\n",
            "MSE (Training) = 0.7409\n",
            "MSE (Testing)  = 0.7196\n"
          ]
        },
        {
          "name": "stderr",
          "output_type": "stream",
          "text": [
            "C:\\Users\\Guan\\Anaconda3\\lib\\site-packages\\sklearn\\linear_model\\coordinate_descent.py:492: ConvergenceWarning: Objective did not converge. You might want to increase the number of iterations. Fitting data with very small alpha may cause precision problems.\n",
            "  ConvergenceWarning)\n"
          ]
        }
      ],
      "source": [
        "# TODO: train the Ridge and Lasso models using their best parameters, and\n",
        "#       report their mse\n",
        "\n",
        "\n",
        "def get_mse(x,y,l,lam):\n",
        "    if l==1:\n",
        "        reg=Lasso(alpha=lam)\n",
        "        reg.fit(x,y)\n",
        "        mse=np.sqrt(mean_squared_error(y,reg.predict(x)))\n",
        "    elif l==2:\n",
        "        reg=Ridge(alpha=lam)\n",
        "        reg.fit(x,y)\n",
        "        mse=np.sqrt(mean_squared_error(y,reg.predict(x)))\n",
        "    else:\n",
        "        pass\n",
        "    return mse\n",
        "\n",
        "\n",
        "mse_ridge_train = get_mse(X_train,y_train,2,lam_ridge)\n",
        "mse_ridge_test = get_mse(X_test,y_test,2,lam_ridge)\n",
        "mse_lasso_train = get_mse(X_train,y_train,1,lam_lasso)\n",
        "mse_lasso_test = get_mse(X_test,y_test,1,lam_lasso)\n",
        "\n",
        "\n",
        "# Report the result\n",
        "print('For Ridge Regression with using degree %d polynomial expansion and lambda = %.4f' % (lam_ridge, lam_ridge))\n",
        "print('--------------------------------------------------------------------------------\\n')\n",
        "print('MSE (Training) = %.4f' % mse_ridge_train)\n",
        "print('MSE (Testing)  = %.4f' % mse_ridge_test)\n",
        "\n",
        "print('\\n\\nFor Lasso with using degree %d polynomial expansion and lambda = %.4f' % (lam_lasso, lam_lasso))\n",
        "print('---------------------------------------------------------------------\\n')\n",
        "print('MSE (Training) = %.4f' % mse_lasso_train)\n",
        "print('MSE (Testing)  = %.4f' % mse_lasso_test)"
      ]
    },
    {
      "cell_type": "markdown",
      "metadata": {
        "id": "Os9tKKLd8gMU"
      },
      "source": [
        "## Larger Degrees\n",
        "\n"
      ]
    },
    {
      "cell_type": "markdown",
      "metadata": {
        "id": "sfqRAlv1PBXi"
      },
      "source": [
        "### **Task 13**\n",
        "Try using higher degree basis expansion. You may want to use k-fold cross validation to determine\n",
        "the values of hyperparameters rather than just keeping a validation set. \n",
        "\n",
        "Hints: Use `KFold` to do this automatically. "
      ]
    },
    {
      "cell_type": "code",
      "execution_count": null,
      "metadata": {
        "id": "kpwY7UtQ8l-0"
      },
      "outputs": [],
      "source": [
        "# KFold\n",
        "from sklearn.model_selection import KFold\n",
        "from sklearn.utils.testing import ignore_warnings\n",
        "from sklearn.exceptions import ConvergenceWarning\n",
        "\n",
        "# here we expand the dataset with degree 4\n",
        "X_train, y_train, X_train_n, y_train_n, X_train_v, y_train_v, X_test, y_test = prepare_data(X, y, 4) "
      ]
    },
    {
      "cell_type": "code",
      "execution_count": null,
      "metadata": {
        "id": "b5V3NDEOtCnk",
        "outputId": "2bbaaf82-147c-4cc2-b1f0-ca23fae04c2e"
      },
      "outputs": [
        {
          "data": {
            "text/plain": [
              "(3918, 1365)"
            ]
          },
          "execution_count": 121,
          "metadata": {},
          "output_type": "execute_result"
        }
      ],
      "source": [
        "X_train.shape"
      ]
    },
    {
      "cell_type": "code",
      "execution_count": null,
      "metadata": {
        "id": "0KKb2qEhtCnl",
        "outputId": "91a53e29-8e85-4768-a1ea-33f25c432a8f"
      },
      "outputs": [
        {
          "name": "stderr",
          "output_type": "stream",
          "text": [
            "C:\\Users\\Guan\\Anaconda3\\lib\\site-packages\\sklearn\\linear_model\\ridge.py:125: LinAlgWarning: Ill-conditioned matrix (rcond=1.67465e-17): result may not be accurate.\n",
            "  overwrite_a=True).T\n",
            "C:\\Users\\Guan\\Anaconda3\\lib\\site-packages\\sklearn\\linear_model\\coordinate_descent.py:492: ConvergenceWarning: Objective did not converge. You might want to increase the number of iterations. Fitting data with very small alpha may cause precision problems.\n",
            "  ConvergenceWarning)\n",
            "C:\\Users\\Guan\\Anaconda3\\lib\\site-packages\\sklearn\\linear_model\\coordinate_descent.py:492: ConvergenceWarning: Objective did not converge. You might want to increase the number of iterations. Fitting data with very small alpha may cause precision problems.\n",
            "  ConvergenceWarning)\n",
            "C:\\Users\\Guan\\Anaconda3\\lib\\site-packages\\sklearn\\linear_model\\coordinate_descent.py:492: ConvergenceWarning: Objective did not converge. You might want to increase the number of iterations. Fitting data with very small alpha may cause precision problems.\n",
            "  ConvergenceWarning)\n",
            "C:\\Users\\Guan\\Anaconda3\\lib\\site-packages\\sklearn\\linear_model\\coordinate_descent.py:492: ConvergenceWarning: Objective did not converge. You might want to increase the number of iterations. Fitting data with very small alpha may cause precision problems.\n",
            "  ConvergenceWarning)\n",
            "C:\\Users\\Guan\\Anaconda3\\lib\\site-packages\\sklearn\\linear_model\\coordinate_descent.py:492: ConvergenceWarning: Objective did not converge. You might want to increase the number of iterations. Fitting data with very small alpha may cause precision problems.\n",
            "  ConvergenceWarning)\n",
            "C:\\Users\\Guan\\Anaconda3\\lib\\site-packages\\sklearn\\linear_model\\coordinate_descent.py:492: ConvergenceWarning: Objective did not converge. You might want to increase the number of iterations. Fitting data with very small alpha may cause precision problems.\n",
            "  ConvergenceWarning)\n",
            "C:\\Users\\Guan\\Anaconda3\\lib\\site-packages\\sklearn\\linear_model\\coordinate_descent.py:492: ConvergenceWarning: Objective did not converge. You might want to increase the number of iterations. Fitting data with very small alpha may cause precision problems.\n",
            "  ConvergenceWarning)\n",
            "C:\\Users\\Guan\\Anaconda3\\lib\\site-packages\\sklearn\\linear_model\\coordinate_descent.py:492: ConvergenceWarning: Objective did not converge. You might want to increase the number of iterations. Fitting data with very small alpha may cause precision problems.\n",
            "  ConvergenceWarning)\n",
            "C:\\Users\\Guan\\Anaconda3\\lib\\site-packages\\sklearn\\linear_model\\coordinate_descent.py:492: ConvergenceWarning: Objective did not converge. You might want to increase the number of iterations. Fitting data with very small alpha may cause precision problems.\n",
            "  ConvergenceWarning)\n"
          ]
        },
        {
          "name": "stdout",
          "output_type": "stream",
          "text": [
            "Ridge lambda: 10\n",
            "Lasso lambda: 0.001\n"
          ]
        },
        {
          "data": {
            "image/png": "[encoded data removed]",
            "text/plain": [
              "<Figure size 432x288 with 1 Axes>"
            ]
          },
          "metadata": {
            "needs_background": "light"
          },
          "output_type": "display_data"
        },
        {
          "data": {
            "image/png": "[encoded data removed]",
            "text/plain": [
              "<Figure size 432x288 with 1 Axes>"
            ]
          },
          "metadata": {
            "needs_background": "light"
          },
          "output_type": "display_data"
        }
      ],
      "source": [
        "# the original way\n",
        "from warnings import filterwarnings\n",
        "filterwarnings('ignore')\n",
        "\n",
        "lam_ridge = choose_hyper_param(X_train_n, y_train_n, X_train_v, y_train_v, True,-10,5)\n",
        "lam_lasso = choose_hyper_param(X_train_n, y_train_n, X_train_v, y_train_v, False,-10,5)\n",
        "print(\"Ridge lambda:\", lam_ridge)\n",
        "print(\"Lasso lambda:\", lam_lasso)"
      ]
    },
    {
      "cell_type": "code",
      "execution_count": null,
      "metadata": {
        "scrolled": true,
        "id": "Vs_dEyfDtCnn",
        "outputId": "a4bc5129-4fff-45da-8688-c4361cbbbec5"
      },
      "outputs": [
        {
          "name": "stdout",
          "output_type": "stream",
          "text": [
            "Ridge lambda: 10\n",
            "Lasso lambda: 0.001\n"
          ]
        },
        {
          "data": {
            "image/png": "[encoded data removed]",
            "text/plain": [
              "<Figure size 432x288 with 1 Axes>"
            ]
          },
          "metadata": {
            "needs_background": "light"
          },
          "output_type": "display_data"
        },
        {
          "data": {
            "image/png": "[encoded data removed]",
            "text/plain": [
              "<Figure size 432x288 with 1 Axes>"
            ]
          },
          "metadata": {
            "needs_background": "light"
          },
          "output_type": "display_data"
        }
      ],
      "source": [
        "# using k-fold cross-validation\n",
        "from warnings import filterwarnings\n",
        "filterwarnings('ignore')\n",
        "\n",
        "def choose_hyperparam_with_Kfold_validation(X_train,y_train,lam_begin, lam_end, is_ridge:bool,K):\n",
        "    # Code that triggers the warning\n",
        "    mse_arr_n = []\n",
        "    mse_arr_v = []\n",
        "    lam_arr = []\n",
        "    for pow_lam in range(lam_begin, lam_end+1):\n",
        "        lam = 10 ** pow_lam\n",
        "        kf = KFold(n_splits=K,shuffle=False)\n",
        "        mse_ns = []\n",
        "        mse_vs = []\n",
        "        for n_idx, v_idx in kf.split(X_train):\n",
        "            X_train_n, X_train_v= X_train[n_idx],X_train[v_idx]\n",
        "            y_train_n, y_train_v= y_train[n_idx],y_train[v_idx]\n",
        "            if is_ridge==True:\n",
        "                reg = Ridge(alpha=lam)\n",
        "                reg.fit(X_train_n,y_train_n) \n",
        "            else:\n",
        "                reg = Lasso(alpha=lam)\n",
        "                reg.fit(X_train_n,y_train_n) \n",
        "            mse_n=np.sqrt(mean_squared_error(y_train_n,reg.predict(X_train_n)))\n",
        "            mse_v=np.sqrt(mean_squared_error(y_train_v,reg.predict(X_train_v)))    \n",
        "            mse_ns.append(mse_n) \n",
        "            mse_vs.append(mse_v)\n",
        "        mse_n_avg,mse_v_avg= np.mean(mse_ns), np.mean(mse_vs)\n",
        "        mse_arr_n.append(mse_n)\n",
        "        mse_arr_v.append(mse_v)\n",
        "        lam_arr.append(lam)\n",
        "    plt.figure()\n",
        "    plt.semilogx(lam_arr, mse_arr_n,'b-', label=\"training error\")\n",
        "    plt.semilogx(lam_arr, mse_arr_v,'r-', label=\"Validation Error\")\n",
        "    plt.legend(loc='lower right', fontsize=9)\n",
        "    lambda_idx_min = np.argmin(np.array(mse_arr_v))\n",
        "    return lam_arr[lambda_idx_min]\n",
        "\n",
        "lam_ridge = choose_hyperparam_with_Kfold_validation(X_train,y_train,-5, 5, True, 5)\n",
        "lam_lasso = choose_hyperparam_with_Kfold_validation(X_train,y_train,-5, 5, False, 5)\n",
        "\n",
        "print(\"Ridge lambda:\", lam_ridge)\n",
        "print(\"Lasso lambda:\", lam_lasso)"
      ]
    },
    {
      "cell_type": "code",
      "execution_count": null,
      "metadata": {
        "id": "wzgsjNKptCnn",
        "outputId": "ac38c07f-2dad-40ab-c60b-12233b49b6f3"
      },
      "outputs": [
        {
          "name": "stdout",
          "output_type": "stream",
          "text": [
            "For Ridge Regression with using degree 10 polynomial expansion and lambda = 10.0000\n",
            "--------------------------------------------------------------------------------\n",
            "\n",
            "MSE (Training) = 0.6711\n",
            "MSE (Testing)  = 0.6330\n",
            "\n",
            "\n",
            "For Lasso with using degree 0 polynomial expansion and lambda = 0.0010\n",
            "---------------------------------------------------------------------\n",
            "\n",
            "MSE (Training) = 0.6902\n",
            "MSE (Testing)  = 0.6403\n"
          ]
        }
      ],
      "source": [
        "def get_mse(x,y,l,lam):\n",
        "    if l==1:\n",
        "        reg=Lasso(alpha=lam)\n",
        "        reg.fit(x,y)\n",
        "        mse=np.sqrt(mean_squared_error(y,reg.predict(x)))\n",
        "    elif l==2:\n",
        "        reg=Ridge(alpha=lam)\n",
        "        reg.fit(x,y)\n",
        "        mse=np.sqrt(mean_squared_error(y,reg.predict(x)))\n",
        "    else:\n",
        "        pass\n",
        "    return mse\n",
        "\n",
        "\n",
        "\n",
        "mse_ridge_train = get_mse(X_train,y_train,2,lam_ridge)\n",
        "mse_ridge_test = get_mse(X_test,y_test,2,lam_ridge)\n",
        "mse_lasso_train = get_mse(X_train,y_train,1,lam_lasso)\n",
        "mse_lasso_test = get_mse(X_test,y_test,1,lam_lasso)\n",
        "\n",
        "\n",
        "# Report the result\n",
        "print('For Ridge Regression with using degree %d polynomial expansion and lambda = %.4f' % (lam_ridge, lam_ridge))\n",
        "print('--------------------------------------------------------------------------------\\n')\n",
        "print('MSE (Training) = %.4f' % mse_ridge_train)\n",
        "print('MSE (Testing)  = %.4f' % mse_ridge_test)\n",
        "\n",
        "print('\\n\\nFor Lasso with using degree %d polynomial expansion and lambda = %.4f' % (lam_lasso, lam_lasso))\n",
        "print('---------------------------------------------------------------------\\n')\n",
        "print('MSE (Training) = %.4f' % mse_lasso_train)\n",
        "print('MSE (Testing)  = %.4f' % mse_lasso_test)"
      ]
    },
    {
      "cell_type": "markdown",
      "metadata": {
        "id": "UAIenDl3tCnn"
      },
      "source": [
        "# Practical 1 Report"
      ]
    },
    {
      "cell_type": "markdown",
      "metadata": {
        "id": "vlXOdQU1tCno"
      },
      "source": [
        "In this practical, we had learnt how to:\n",
        "\n",
        ">**1.implement linear regression using least squared errors methods from scratch**                         \n",
        "**2.recognize underfitting and overfitting problems**                        \n",
        "**3.solve overfitting problem with Ridge, Lasso regression utilizing the library SKlearn **\n",
        "\n",
        "The most difficult part for us is to create a overfitting model. With the help of the lecture notes and document of SKlearn, we had understood details on basis expension and tried multiple higher degree basis expension. In task 13 above, we showed basis expension with a degree of 4, since with degree of 3, we think the overfitting is not obvious enough but with degree of 5, our features number would be too large comparative to our data amount. To fully show the change of validation error and training error, we also chose the hyperparameter $\\lambda$ from $10^{-5}$ to $10^5$. \n",
        "\n",
        "Upon the contribution of each menber, we first coded our own answers and then we figured out the final solution through discussion. So we all contributed nearly the same.\n",
        "\n",
        "\n",
        "Hongjie, Yilan, Tinghuan\n",
        "\n",
        "\n"
      ]
    }
  ],
  "metadata": {
    "kernelspec": {
      "display_name": "Python 3",
      "language": "python",
      "name": "python3"
    },
    "language_info": {
      "codemirror_mode": {
        "name": "ipython",
        "version": 3
      },
      "file_extension": ".py",
      "mimetype": "text/x-python",
      "name": "python",
      "nbconvert_exporter": "python",
      "pygments_lexer": "ipython3",
      "version": "3.6.9"
    },
    "varInspector": {
      "cols": {
        "lenName": 16,
        "lenType": 16,
        "lenVar": 40
      },
      "kernels_config": {
        "python": {
          "delete_cmd_postfix": "",
          "delete_cmd_prefix": "del ",
          "library": "var_list.py",
          "varRefreshCmd": "print(var_dic_list())"
        },
        "r": {
          "delete_cmd_postfix": ") ",
          "delete_cmd_prefix": "rm(",
          "library": "var_list.r",
          "varRefreshCmd": "cat(var_dic_list()) "
        }
      },
      "types_to_exclude": [
        "module",
        "function",
        "builtin_function_or_method",
        "instance",
        "_Feature"
      ],
      "window_display": false
    },
    "colab": {
      "name": "Practical1.ipynb",
      "provenance": [],
      "collapsed_sections": [
        "cRPPA6HMbNOr",
        "WSEwFGp_bqAI",
        "vT4_Sl42bxmD",
        "NTJw_BrzhRwi",
        "pCwBPuOXlRF7",
        "6jwkPevimQri",
        "i3BxxtM3nghU",
        "FAuX0uU5k9qD",
        "sfqRAlv1PBXi"
      ],
      "include_colab_link": true
    }
  },
  "nbformat": 4,
  "nbformat_minor": 0
}